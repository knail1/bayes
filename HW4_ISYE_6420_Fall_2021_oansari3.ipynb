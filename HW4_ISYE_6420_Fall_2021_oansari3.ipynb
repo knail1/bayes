{
  "nbformat": 4,
  "nbformat_minor": 0,
  "metadata": {
    "colab": {
      "name": "HW4-ISYE-6420-Fall-2021-oansari3.ipynb",
      "provenance": [],
      "collapsed_sections": [],
      "authorship_tag": "ABX9TyNYPuutsWo2JfGIEcBJdBwM",
      "include_colab_link": true
    },
    "kernelspec": {
      "name": "python3",
      "display_name": "Python 3"
    },
    "language_info": {
      "name": "python"
    }
  },
  "cells": [
    {
      "cell_type": "markdown",
      "metadata": {
        "id": "view-in-github",
        "colab_type": "text"
      },
      "source": [
        "<a href=\"https://colab.research.google.com/github/knail1/bayes/blob/main/HW4_ISYE_6420_Fall_2021_oansari3.ipynb\" target=\"_parent\"><img src=\"https://colab.research.google.com/assets/colab-badge.svg\" alt=\"Open In Colab\"/></a>"
      ]
    },
    {
      "cell_type": "markdown",
      "metadata": {
        "id": "U6NVIyN43JLH"
      },
      "source": [
        "\n",
        "## HW4\n",
        "#### ISYE 6420 - Bayesian Stats \n",
        "\n",
        "#### Student: Omer Ansari (oansari3)\n",
        "#### Date: 10/14/2021"
      ]
    },
    {
      "cell_type": "markdown",
      "metadata": {
        "id": "IWIgIP0F3eVP"
      },
      "source": [
        "#Q1\n",
        "\n",
        "Metropolis: Bounded Normal Mean\n",
        "===============================\n",
        "\n",
        "Suppose that we have information that the normal mean $\\theta$ is\n",
        "bounded between $-m$ and $m$, for some known number $m$. In this case it\n",
        "is natural that the support of the prior on $\\theta$ is interval\n",
        "$[-m,m]$.\n",
        "\n",
        "A prior with interesting theoretical properties supported on $[-m,m]$ is\n",
        "the Bickel-Levit prior:\n",
        "\n",
        "$$\\pi(\\theta)  = \\frac{1}{m} \\cos^2 \\left(  \\frac{\\pi \\theta}{2 m}   \\right), \\ \\ -m \\leq \\theta \\leq m$$\n",
        "\n",
        "Assume that a sample $[-2,-3,4,-7,0,4]$ is observed from the normal\n",
        "distribution\n",
        "\n",
        "$$f(y|\\theta)  \\propto \\tau \\exp \\left\\{   -\\frac{\\tau}{2} (y-\\theta)^2   \\right\\}$$\n",
        "\n",
        "with known precision $\\tau=1/4$. This combination of likelihood/prior\n",
        "does not result in an explicit posterior in terms of elementary\n",
        "functions. Construct the Metropolis algorithm that will sample from the\n",
        "posterior of $\\theta$.\n",
        "\n",
        "Suggestions:\n",
        "\n",
        "1.  Take the uniform distribution on $[-m,m]$ as a proposal distribution\n",
        "    since it is easy to sample from. This is an independence proposal,\n",
        "    since the proposed $\\theta'$ does not depend on the current value of\n",
        "    the chain, $\\theta$.\n",
        "\n",
        "2.  You will need to calculate $\\sum_{i=1}^n (y_i-\\theta)^2$ for current\n",
        "    $\\theta$ and $\\sum_{i=1}^n (y_i-\\theta')^2$ for the proposed\n",
        "    $\\theta'$, prior to calculating the Metropolis ratio.\n",
        "\n",
        "    ----\n",
        "    \n",
        "\n",
        "### information provided:\n",
        "\n",
        "- normal mean $\\theta$ is bounded: $-m \\le \\theta \\le$ m\n",
        "- we can elicit a prior on $\\theta$ on interval [-m, m]\n",
        "- prior (generic) $\\pi(\\theta) = \\frac{1}{m}cos^{2}\\left ( \\frac{\\pi\\theta}{2m} \\right )$, for $-m \\le \\theta \\le m $\n",
        "- prior (specific, with m = 2) \n",
        "  - $\\pi(\\theta) = \\frac{1}{4}cos^{2}\\left ( \\frac{\\pi\\theta}{4} \\right )$ , $-2 \\le \\theta \\le 2 $ --- **A.1**\n",
        "- likelihood generic, (normal distribution): $f(y|\\theta) \\propto \\sqrt{\\tau}e^{\\left ( \\frac{\\tau}{2}(y-\\theta)^{2} \\right )}$ \n",
        "- likelihood (specific for $\\tau = \\frac{1}{4}$:): $f(y|\\theta) \\propto \\frac{1}{2}e^{\\left ( \\frac{1}{2}(\\frac{y-\\theta}{2})^{2} \\right )}$ --- **A.2**\n",
        "  - now, the standard normal distribution definition is:\n",
        "  $N = \\frac{1}{\\sqrt{2\\pi}\\sigma}e^{-0.5\\frac{{(y_{i}-\\theta)}^{2}}{\\sigma^{2}}}$  --- **A.3**\n",
        "  - comparing A.2 and A.3 we can infer in our example, $\\sigma = 2$ --- **A.4**\n",
        "\n",
        "- data observed are multiple points:\n",
        "  - $[-2,3,4,-7,0,4]$\n",
        "  - therefore, we need to find a joint likelihood that each of these iid values took place one after the other.\n",
        "  \n",
        "  - Joint likelihood is:\n",
        "  - $\\mathscr{L} = \\prod_{i=1}^{n}N$  \n",
        "  - $= \\prod_{i=1}^{n} \\frac{1}{\\sqrt{2\\pi}\\sigma}e^{-0.5\\frac{{(y_{i}-\\theta)}^{2}}{\\sigma^{2}}}$ , or simplified to:\n",
        "  -   - $\\mathscr{L} = \\propto \\frac{1}{\\sigma^{n}}e^{-0.5\\sum_{i=1}^{n}{(\\frac{{y_{i}-\\theta}}{\\sigma})}^{2}}$ ---- **A.5**\n",
        "\n",
        "\n",
        "\n",
        "**(a) Simulate 10,000 observations from posterior, burn-in = 500, and plot histogram**"
      ]
    },
    {
      "cell_type": "markdown",
      "metadata": {
        "id": "LxOQ_ujFWx4N"
      },
      "source": [
        "## ANSWER1:\n",
        "\n",
        "Metropolis steps:\n",
        "- **Step 1:** proposal initial (seed) value of $\\theta$ from the posterior distrution.\n",
        "  - here, we propose 1, which is a safe value between [-2,2]\n",
        "- **Step 2:**  calculate the posterior density of observing the data using the initial seed proposal, by finding\n",
        "    - (2a) the likelihood (or joint likelihood in our case since we have multiple observed values)\n",
        "    - (2b) the prior, and then\n",
        "    - (2c) the posterior, from *posterior $\\propto$ likelihood ∗ prior*\n",
        "    - we will call it $P(\\theta_{current}|data)$. This is the posterior density value for a particular hypothesis of $\\theta$.\n",
        "- **Step 3:**  propose a *2nd* value of $\\theta$ drawn , at random from a uniform distribution on [-m,m]\n",
        "- **Step 4:** calculate posterior density for this random proposal (same steps as step 2)\n",
        "   - lets call it $P(\\theta_{proposed}|data)$\n",
        "- **Step 5:** calculate the probabilty of accepting the proposal as $$min(\\frac{\\theta_{proposed}}{\\theta_{current}},1)$$\n",
        "- **Step 6:**  decide to accept proposal or stay put *randomly* (aka monte carlo), by pulling a random number from U(0,1) and comparing with value in Step5.\n",
        "  - if our random number is less than step5, accept the proposal\n",
        "  - if our random number is higher than step5, keep the original theta\n",
        "- **Step 7:** repeat this experiment 10,000 times, and keep storing the thetas\n",
        "- **Step 8:** drop the first 500 thetas (burn-ins)\n",
        "\n",
        "\n",
        "in the code below, we now implement these steps."
      ]
    },
    {
      "cell_type": "code",
      "metadata": {
        "colab": {
          "base_uri": "https://localhost:8080/"
        },
        "id": "HxfWuICz3EQI",
        "outputId": "78089b52-a575-4b33-ef6e-9038973d60bd"
      },
      "source": [
        "\n",
        "import numpy as np\n",
        "import pandas as pd\n",
        "import random\n",
        "from math import e, pi, cos\n",
        "import matplotlib.pyplot as plt\n",
        "\n",
        "\n",
        "def joint_likelihood(data_array,theta,tau):\n",
        "  # as shown in A.5 above:\n",
        "  sigma = 1/(tau**(0.5)) # first change tau to sigma\n",
        "  n = len(data_array)\n",
        "  term1 = 1/(sigma**(n))\n",
        "  exponent_term1 = -0.5\n",
        "  exponent_term2 = 0\n",
        "  for value in data_array:\n",
        "      exponent_term2 = exponent_term2 + ((value - theta)/sigma)**2\n",
        "\n",
        "  term2 = e**(exponent_term1*exponent_term2)\n",
        "  jl = term1*term2\n",
        "  return jl \n",
        "\n",
        "def prior(theta,m):\n",
        "  term1 = 1/m\n",
        "  numerator_term2 = pi*theta\n",
        "  denominator_term2 = 2*m\n",
        "  term2 = (cos(numerator_term2/denominator_term2))**2\n",
        "  return term1*term2\n",
        "\n",
        "def draw_random_proposal(m):\n",
        "  return random.uniform(-m,m)\n",
        "  \n",
        "def prob_of_accepting_proposal(p_current,p_proposed):\n",
        "  #probability of moving to the proposal value:\n",
        "  paccept = min(p_proposed/p_current, 1)\n",
        "  return paccept\n",
        "\n",
        "def decide_to_accept(paccept):\n",
        "  random_val = random.uniform(0,1)\n",
        "  #scale it down. 1/(b-a), b=2, a = -2, thus scale factor is 1/4\n",
        "  random_val = 0.25*random_val\n",
        "  #print(\"[decide_to_accept] random_val = {}\".format(random_val))\n",
        "  if paccept > random_val:\n",
        "    decision = 1  \n",
        "  else:\n",
        "    decision = 0\n",
        "  # 0 is dont accept proposal 1 is yes, accept proposal\n",
        "  return decision\n",
        "\n",
        "\n",
        "### reset constants and observed data\n",
        "\n",
        "random.seed(42) \n",
        "thetas = []\n",
        "m = 2\n",
        "tau = 1/4\n",
        "data = [-2,-3,4,-7,0,4]\n",
        "\n",
        "\n",
        "\n",
        "\n",
        "theta_proposal_0 = 1 # step 1 initial value\n",
        "thetas.append(theta_proposal_0)\n",
        "jl_0 = joint_likelihood(data,theta_proposal_0,tau)  #step 2a\n",
        "\n",
        "prior_0 = prior(theta_proposal_0,m) # step 2b\n",
        "posterior_0 = jl_0*prior_0  # step 2c\n",
        "\n",
        "theta_proposal_1 = draw_random_proposal(m) #step3 \n",
        "\n",
        "posterior_1 = joint_likelihood(data,theta_proposal_1,tau) * prior(theta_proposal_1,m) #step4\n",
        "paccept = prob_of_accepting_proposal(posterior_0, posterior_1) #step5\n",
        "decision = decide_to_accept(paccept) # step6\n",
        "if decision == 1: #step 7\n",
        "  thetas.append(theta_proposal_1)\n",
        "else: \n",
        "  thetas.append(theta_proposal_0)\n",
        "print(\"~~~ First we step through the algorithm manually for one iteration to illustrate ~~~ \")\n",
        "print(\"Step1: initial theta = {}\".format(theta_proposal_0))\n",
        "print(\"Step2: posterior density for initial theta:\")\n",
        "print(\"\\tStep2a: joint-likelihood = {}\".format(jl_0))\n",
        "print(\"\\tStep2b: prior = {}\".format(prior_0))\n",
        "print(\"\\tStep2c: posterior density for 1st initial theta = {}\".format(posterior_0))\n",
        "\n",
        "print(\"Step3: draw a random proposal for theta from U(-2,2) = {}\".format(theta_proposal_1))\n",
        "print(\"Step4: posterior density for randomly proposed theta = {}\".format(posterior_1))\n",
        "\n",
        "print(\"Step5: probability of accepting proposal or keeping prior using acceptance ratio = {}\".format(paccept))\n",
        "print(\"Step6: decide to accept? 1 is yes, 0 is no = {}\".format(decision))\n",
        "print(\"Step7: add the theta (the proposal or the prior one) into the array of thetas\")\n",
        "print(\"repeat Steps 3 - 7 10,000 times\")"
      ],
      "execution_count": 15,
      "outputs": [
        {
          "output_type": "stream",
          "name": "stdout",
          "text": [
            "~~~ First we step through the algorithm manually for one iteration to illustrate ~~~ \n",
            "Step1: initial theta = 1\n",
            "Step2: posterior density for initial theta:\n",
            "\tStep2a: joint-likelihood = 2.1421235724751333e-08\n",
            "\tStep2b: prior = 0.25000000000000006\n",
            "\tStep2c: posterior density for 1st initial theta = 5.355308931187834e-09\n",
            "Step3: draw a random proposal for theta from U(-2,2) = 0.557707193831535\n",
            "Step4: posterior density for randomly proposed theta = 2.2917900251544425e-08\n",
            "Step5: probability of accepting proposal or keeping prior using acceptance ratio = 1\n",
            "Step6: decide to accept? 1 is yes, 0 is no = 1\n",
            "Step7: add the theta (the proposal or the prior one) into the array of thetas\n",
            "repeat Steps 3 - 7 10,000 times\n"
          ]
        }
      ]
    },
    {
      "cell_type": "code",
      "metadata": {
        "colab": {
          "base_uri": "https://localhost:8080/",
          "height": 331
        },
        "id": "KVtEk5gKXmp4",
        "outputId": "db3de160-a410-4c0f-a6a6-0850785c472c"
      },
      "source": [
        "print(\"~~~ Now we reset all values, and iterate through the algorithm 10,000 times, and plotting histogram ~~~ \")\n",
        "\n",
        "\n",
        "random.seed(42) \n",
        "theta = 1; #step1\n",
        "iterations = 10500 # we will discard 500 of these;\n",
        "m = 2\n",
        "tau = 1/4\n",
        "data = [-2,-3,4,-7,0,4]\n",
        "\n",
        "thetas = [theta]\n",
        "\n",
        "for i in range(iterations):\n",
        "  posterior_current = joint_likelihood(data,theta, tau)*prior(theta,m) #step2\n",
        "  theta_proposed = draw_random_proposal(m) # step3\n",
        "  posterior_proposed = joint_likelihood(data,theta_proposed, tau)*prior(theta_proposed,m) #step4\n",
        "  if decide_to_accept(prob_of_accepting_proposal(posterior_current, posterior_proposed)): #steps 5 and 6\n",
        "    # if 1, then we accept the proposal:\n",
        "    theta = theta_proposed\n",
        "  #else we don't (theta remains unchanged, aka the current value) \n",
        "  thetas.append(theta) #step 7\n",
        "\n",
        "thetas_keep = thetas[501:] # dropping 500 along with th initial seed theta\n",
        "\n",
        "avg_theta = np.average(thetas_keep)\n",
        "print(\"Average Theta: {}\".format(avg_theta))\n",
        "\n",
        "# the histogram of the data\n",
        "n, bins, patches = plt.hist(thetas_keep, bins=50, facecolor='green', alpha=0.75)\n",
        "\n",
        "\n",
        "plt.xlabel('Theta')\n",
        "plt.ylabel('Probability')\n",
        "plt.title('Histogram of theta')\n",
        "#plt.axis([40, 160, 0, 0.03])\n",
        "plt.grid(True)\n",
        "\n",
        "plt.show()\n",
        "\n"
      ],
      "execution_count": 16,
      "outputs": [
        {
          "output_type": "stream",
          "name": "stdout",
          "text": [
            "~~~ Now we reset all values, and iterate through the algorithm 10,000 times, and plotting histogram ~~~ \n",
            "Average Theta: -0.25013233174202476\n"
          ]
        },
        {
          "output_type": "display_data",
          "data": {
            "image/png": "[encoded data removed]",
            "text/plain": [
              "<Figure size 432x288 with 1 Axes>"
            ]
          },
          "metadata": {
            "needs_background": "light"
          }
        }
      ]
    },
    {
      "cell_type": "markdown",
      "metadata": {
        "id": "gApNquCgXAVp"
      },
      "source": [
        "----\n",
        "**(1b) Find Bayes estimator of $\\theta$ and 95% equitailed credible set based on simulated observations**\n",
        "\n"
      ]
    },
    {
      "cell_type": "code",
      "metadata": {
        "colab": {
          "base_uri": "https://localhost:8080/"
        },
        "id": "tClXV7zjm-xr",
        "outputId": "fc84a26c-cebd-4011-8ca5-68fa51ab645f"
      },
      "source": [
        "left_edge = np.percentile(thetas_keep , 2.5)\n",
        "right_edge = np.percentile(thetas_keep , 97.5)\n",
        "print(\"Bayes estimator (mean of kept thetas) = {}\".format(avg_theta))\n",
        "print(\"95% equitailed credible set is [{} {}]\".format(left_edge, right_edge))"
      ],
      "execution_count": 17,
      "outputs": [
        {
          "output_type": "stream",
          "name": "stdout",
          "text": [
            "Bayes estimator (mean of kept thetas) = -0.25013233174202476\n",
            "95% equitailed credible set is [-1.5958848649860726 1.1973144153253632]\n"
          ]
        }
      ]
    },
    {
      "cell_type": "markdown",
      "metadata": {
        "id": "nDT8Nifnniu_"
      },
      "source": [
        "-----\n",
        "#Q2\n",
        "Armitage and Berry (1994, p. 111) report data on the weight gain of 19\n",
        "female rats between 28 and 84 days after birth. The rats were placed on\n",
        "diets with high (12 animals) and low (7 animals) protein content:\n",
        "\n",
        "\n",
        "    High protein   Low protein\n",
        "  -------------- -------------\n",
        "             134            70\n",
        "             146           118\n",
        "             104           101\n",
        "             119            85\n",
        "             124           107\n",
        "             161           132\n",
        "             107            94\n",
        "              83 \n",
        "             113 \n",
        "             129 \n",
        "              97 \n",
        "             123 \n",
        "\n",
        "We want to test the hypothesis on dietary effect. Did a low protein diet\n",
        "result in significantly lower weight gain?\n",
        "\n",
        "The classical $t$ test against one sided alternative will be\n",
        "significant. We will do the test the Bayesian way using the Gibbs\n",
        "sampler.\n",
        "\n",
        "Assume that high-protein diet measurements $y_{1i}, \\ i=1,\\ldots,12$ are\n",
        "coming from a normal distribution $N(\\theta_1, 1/\\tau_1)$, where\n",
        "$\\tau_1$ is the precision parameter:\n",
        "\n",
        "$$f(y_{1i} |\\theta_1, \\tau_1  )  \\propto  \\tau_1^{1/2} \\exp \\left\\{ -\\frac{\\tau_1}{2} (y_{1i} - \\theta_1)^2  \\right\\}   ,  \\ \\ i=1,\\ldots,12$$\n",
        "\n",
        "Low-protein diet measurements $y_{2i}$, $i=1,\\ldots,7$ are coming from a\n",
        "normal distribution given as $N(\\theta_2,1/\\tau_2)$:\n",
        "\n",
        "$$f(y_{2i} |\\theta_2, \\tau_2  )  \\propto  \\tau_2^{1/2} \\exp \\left\\{ -\\frac{\\tau_2}{2} (y_{2i} - \\theta_2)^2  \\right\\}   ,  \\ \\ i=1,\\ldots,7$$\n",
        "\n",
        "Assume that $\\theta_1$ and $\\theta_2$ have normal priors\n",
        "$N(\\theta_{10}, 1/\\tau_{10})$ and $N(\\theta_{20}, 1/\\tau_{20})$\n",
        "respectively. Take prior means as $\\theta_{10}=\\theta_{20}=110$ (apriori\n",
        "no preference) and precisions as $\\tau_{10}=\\tau_{20}=1/100$.\n",
        "\n",
        "Assume that $\\tau_{1}$ and $\\tau_{2}$ have the gamma $Ga(a_1,b_1)$ and\n",
        "$Ga(a_2,b_2)$ priors with shapes $a_1=a_2=0.01$ and rates $b_1=b_2=4$.\n",
        "\n",
        "**1.  Construct Gibbs sampler that will sample $\\theta_1$, $\\tau_1$, $\\theta_2$, $\\tau_2$ from their posteriors.**\n",
        "\n",
        "\n",
        "-----\n"
      ]
    },
    {
      "cell_type": "markdown",
      "metadata": {
        "id": "maluulx2aymd"
      },
      "source": [
        "# ANSWER 2:\n",
        "\n",
        "### goal and theory behind approach\n",
        "- as always we want to estimate the posterior (in this case two posteriors , one for high protein diet, and one for low protein diet)\n",
        "- each of the two is a multi-variate distribution. in each we have a $\\theta$ and $\\tau$.\n",
        "- the gibbs sampler allows us to sample from the posterior distribution as a 'conditional' distribition, while keeping the other two variates as constant. \n",
        "- **evaluating $\\theta$**: \n",
        "  - From provided gibbs.pdf we can extract the derivation the full conditional for \\theta from the joint distribution of $f(y,\\theta,\\tau)$:\n",
        "    - $\\pi(\\theta|\\tau,y) \\propto e^{-0.5(\\tau_0 +n\\tau)(\\theta - \\frac{\\tau\\sum y_{i}+\\tau_0\\theta_0}{\\tau_0+n\\tau})}$ -- **A.1**\n",
        "  - A.1 is the kernel of a normal:\n",
        "    - $N \\left ( \\frac{\\tau\\sum_{i=1}^{n}y_i + \\tau_0\\theta_0}{n\\tau+\\tau_0}, \\frac{1}{n\\tau+\\tau_0} \\right )$ -- **A.2**\n",
        "  - note that x in N(x,y) above is mean, and y is *variance*\n",
        "\n",
        "- **evaluating $\\tau$**: \n",
        "  - From provided gibbs.pdf we can extract the derivation the full conditional for \\theta from the joint distribution of $f(y,\\theta,\\tau)$:\n",
        "    - $\\pi(\\tau|\\theta,y) \\propto \\tau^{n/2+\\alpha -1}e^{-\\tau \\left ( \\frac{1}{2}\\sum_{i=1}^{n}(y_i-\\theta)^{2}+b \\right )}$ -- **A.3**\n",
        "  - A.3 is the kernel of a Gamma distribution:\n",
        "    - $Ga(n/2 + \\alpha, \\frac{1}{2}\\sum_{i=1}^{n}(y_i-\\theta)^{2}+b)$ -- **A.4**\n",
        "\n",
        "- the crux of this derivation hinges on finding the full conditional distribution for \\theta by selecting the terms from $f(y,\\theta,\\tau)$ that contain $\\theta$ and normalizing.\n",
        "- gibbs allows us to estimate the joint posterior distribution of $\\theta$ by the fact that:\n",
        "  - $\\pi(\\theta|\\tau,y) = \\frac{\\pi(\\theta,\\tau|y)}{\\pi(\\tau|y)} = \\frac{\\pi(\\theta,\\tau,y)}{\\pi(\\tau,y)} \\propto \\pi(\\theta\\tau,y)$\n",
        "\n",
        "\n",
        "### method in solving Q2:\n",
        "\n",
        "\n",
        "\n",
        "- recall that we have two different posteriors ($\\pi$) to derive\n",
        "  - the high protein diet posterior\n",
        "  - the low protein diet posterior\n",
        "\n",
        "- for *each* of these posteriors, we have a multi-variate distribution. \n",
        "  - $\\theta_1$ and $\\tau_1$ for high-protein\n",
        "  - $\\theta_2$ and $\\tau_2$ for low-protein\n",
        "- we need to estimate the distributions of each of these *four* parameters.\n",
        "\n",
        "- for *each* of these four, we will use Gibb's conditional sampling approach, and sample 10,500 values  and drop the first 500.\n",
        "  - for $\\theta_1$: $\\pi(\\theta_1|\\tau_1,y)$ --**A.5 **, A.1 instance\n",
        "  - for $\\theta_2$: $\\pi(\\theta_2|\\tau_2,y)$ --**A.6**, A.1 instance\n",
        "  - for $\\tau_1$: $\\pi(\\tau_1|\\theta_1,y)$ --**A.7**, A.3 instance\n",
        "  - for $\\tau_2$: $\\pi(\\tau_2|\\theta_2,y)$ --**A.8**, A.3 instance\n",
        "\n",
        "- the trick we use for $\\theta_1$ and $\\theta_2$ is that since we already know that\n",
        "  - the full conditional posterior is the **normal** distribution A.1 above, we can use the derived mean and variance for it (shown in A.2) to create this posterior.\n",
        "- the trick we use for $\\tau_1$ and $\\tau_2$ is that since we already know that\n",
        "  - the full conditional posterior is the **gamma** distribution A.3 above, we can use the derived mean and variance for it (shown in A.4) to create this posterior."
      ]
    },
    {
      "cell_type": "code",
      "metadata": {
        "colab": {
          "base_uri": "https://localhost:8080/",
          "height": 709
        },
        "id": "M6I_hUSFJyHq",
        "outputId": "b665c229-26fe-46ee-b347-d53a420ae6d3"
      },
      "source": [
        "import numpy as np\n",
        "import matplotlib.pyplot as plt\n",
        "np.random.seed(42)\n",
        "\n",
        "\n",
        "print(\"~~~~~ HIGH PROTEIN DISTRIBUTION CALCULATION: ~~~~~\")\n",
        "\n",
        "high_protein_observations = np.array([134,146,104,119,124,161,107,83,113,129,97,123])\n",
        "\n",
        "\n",
        "iterations = 10500;\n",
        "\n",
        "# all variables suffixed with _1 (eg theta_1 and tau_1) are going to be the parameters for high protein dist\n",
        "thetas_1 = np.array([])\n",
        "taus_1 = np.array([])\n",
        "n_1 = high_protein_observations.shape[0]\n",
        "\n",
        "sumdata_high_protein = np.sum(high_protein_observations)\n",
        "#hyperparameters (initial seeds)\n",
        "theta_1_0=110\n",
        "tau_1_0 = 1/100\n",
        "\n",
        "a= 0.01\n",
        "b= 4\n",
        "# start, initial values\n",
        "theta_1 =  0.5    \n",
        "tau_1 = 0.5  \n",
        "\n",
        "\n",
        "for i in range(iterations):\n",
        "  ## implementing A.2:\n",
        "  new_theta_1  = np.random.normal(\n",
        "      (tau_1 * sumdata_high_protein + tau_1_0*theta_1_0)/(tau_1_0+n_1*tau_1),\n",
        "      np.sqrt(1/(tau_1_0+n_1*tau_1))\n",
        "  )  \n",
        "  \n",
        "  ## implementing A.4:\n",
        "  rate_high_protein   = b + 1/2*np.sum((high_protein_observations -  theta_1)**2) \n",
        "  new_tau_1 = np.random.gamma(a + n_1/2, 1/rate_high_protein);  # note the 1/x in the 2nd term to accomodate python's gamma function requirement\n",
        "\n",
        "  thetas_1 = np.append(thetas_1, new_theta_1)\n",
        "  taus_1 = np.append(taus_1, new_tau_1)\n",
        "  theta_1 = new_theta_1 # unlike metropolis, we always update our parameters\n",
        "  tau_1 = new_tau_1 # same\n",
        " \n",
        " \n",
        "burn =500 \n",
        "thetas_1  = thetas_1[burn:iterations] \n",
        "taus_1 = taus_1[burn:iterations] \n",
        "\n",
        "print(\"mean of theta_1 = {}\".format(np.mean(thetas_1)))\n",
        "print(\"mean of tau_1 = {}\".format(np.mean(taus_1)))\n",
        "\n",
        "\n",
        "\n",
        "fig, ax = plt.subplots()\n",
        "x1 = plt.subplot(2,1,1) \n",
        "plt.hist(thetas_1, 40)\n",
        "x2 = plt.subplot(2,1,2) \n",
        "plt.hist(taus_1, 40)\n",
        "x1.set(title=\"Theta_2\", ylabel=\"Probability\")\n",
        "x2.set(title=\"Tau_2\", ylabel=\"Probability\")\n",
        "plt.show()\n",
        "\n",
        "\n",
        "#--------now we calculate the same for low protein distribution --------------\n",
        "print(\"\\n\\n\")\n",
        "print(\"~~~~~ LOW PROTEIN DISTRIBUTION CALCULATION: ~~~~~\")\n",
        "low_protein_observations = np.array([70,118,101,85,107,132,94])\n",
        "# all variables suffixed with _2 (eg theta_2 and tau_2) are going to be the parameters for low protein dist\n",
        "n_2 = low_protein_observations.shape[0]\n",
        "thetas_2 = np.array([])\n",
        "taus_2 = np.array([])\n",
        "theta_2_0=110\n",
        "tau_2_0 = 1/100\n",
        "a= 0.01\n",
        "b= 4\n",
        "\n",
        "sumdata_low_protein = np.sum(low_protein_observations)\n",
        "\n",
        "# start, initial values\n",
        "theta_2 =  0.5    \n",
        "tau_2 = 0.5  \n",
        "\n",
        "\n",
        "for i in range(iterations):\n",
        "  ## implementing A.2:\n",
        "  new_theta_2  = np.random.normal((\n",
        "      tau_2 * sumdata_low_protein + tau_2_0*theta_2_0)/(tau_2_0+n_2*tau_2),\n",
        "      np.sqrt(1/(tau_2_0+n_2*tau_2)))\n",
        "  \n",
        "  ## implementing A.4:\n",
        "  rate_low_protein   = b + 1/2*np.sum((low_protein_observations -  theta_2)**2)\n",
        "  new_tau_2 = np.random.gamma(a + n_2/2, 1/rate_low_protein);  # note the 1/x in the 2nd term to accomodate python's gamma function requirement\n",
        "\n",
        "  thetas_2 = np.append(thetas_2, new_theta_2)\n",
        "  taus_2 = np.append(taus_2, new_tau_2)\n",
        "  theta_2 = new_theta_2 # unlike metropolis, we always update our parameters\n",
        "  tau_2 = new_tau_2 # same\n",
        " \n",
        " \n",
        "burn =500 \n",
        "thetas_2  = thetas_2[burn:iterations] \n",
        "taus_2 = taus_2[burn:iterations] \n",
        "\n",
        "print(\"mean of theta_2 = {}\".format(np.mean(thetas_2)))\n",
        "print(\"mean of tau_2 = {}\".format(np.mean(taus_2)))\n",
        "\n",
        "\n",
        "\n",
        "fig, ax = plt.subplots()\n",
        "x1 = plt.subplot(2,1,1) \n",
        "plt.hist(thetas_2, 40, facecolor='green', alpha=0.75)\n",
        "\n",
        "x2 = plt.subplot(2,1,2) \n",
        "plt.hist(taus_2, 40, facecolor='green', alpha=0.75)\n",
        "\n",
        "x1.set(title=\"Theta_2\", ylabel=\"Probability\")\n",
        "x2.set(title=\"Tau_2\", ylabel=\"Probability\")\n",
        "\n",
        "plt.show()\n",
        "\n",
        "\n"
      ],
      "execution_count": 18,
      "outputs": [
        {
          "output_type": "stream",
          "name": "stdout",
          "text": [
            "~~~~~ HIGH PROTEIN DISTRIBUTION CALCULATION: ~~~~~\n",
            "mean of theta_1 = 116.94399991149926\n",
            "mean of tau_1 = 0.0022114935589727866\n"
          ]
        },
        {
          "output_type": "display_data",
          "data": {
            "image/png": "[encoded data removed]",
            "text/plain": [
              "<Figure size 432x288 with 2 Axes>"
            ]
          },
          "metadata": {
            "needs_background": "light"
          }
        },
        {
          "output_type": "stream",
          "name": "stdout",
          "text": [
            "\n",
            "\n",
            "\n",
            "~~~~~ LOW PROTEIN DISTRIBUTION CALCULATION: ~~~~~\n",
            "mean of theta_2 = 104.71951045866902\n",
            "mean of tau_2 = 0.0024350778502226014\n"
          ]
        },
        {
          "output_type": "display_data",
          "data": {
            "image/png": "[encoded data removed]",
            "text/plain": [
              "<Figure size 432x288 with 2 Axes>"
            ]
          },
          "metadata": {
            "needs_background": "light"
          }
        }
      ]
    },
    {
      "cell_type": "markdown",
      "metadata": {
        "id": "avK-QSr-zT-k"
      },
      "source": [
        "\n",
        "\n",
        "\n",
        "------\n",
        "**2.  Find sample differences $\\theta_1-\\theta_2$. Proportion of positive differences approximates posterior probability of hypothesis $H_{0}: \\theta_{1} > \\theta_{2}$. What is this proportion?**\n",
        "\n"
      ]
    },
    {
      "cell_type": "code",
      "metadata": {
        "colab": {
          "base_uri": "https://localhost:8080/"
        },
        "id": "s6aU-Dj301D_",
        "outputId": "855099e5-23e2-4276-acde-77a2e18266ae"
      },
      "source": [
        "delta_theta = thetas_1-thetas_2\n",
        "# identify the positive items:\n",
        "delta_theta_positive = delta_theta[delta_theta > 0]\n",
        "proportion = delta_theta_positive.shape[0]/delta_theta.shape[0]\n",
        "print(\"The # of positive differences between Theta1-Theta2 = {}\".format(delta_theta.shape[0]))\n",
        "print(\"The proportion of positive differences of Theta1-Theta2 to all (kept) observations = {:.2%}\".format(proportion))"
      ],
      "execution_count": 19,
      "outputs": [
        {
          "output_type": "stream",
          "name": "stdout",
          "text": [
            "The # of positive differences between Theta1-Theta2 = 10000\n",
            "The proportion of positive differences of Theta1-Theta2 to all (kept) observations = 92.24%\n"
          ]
        }
      ]
    },
    {
      "cell_type": "markdown",
      "metadata": {
        "id": "7GYCSNjozXpA"
      },
      "source": [
        "------\n",
        "\n",
        "**3.  Using sample quantiles find the 95% equitailed credibe set for $\\theta_1-\\theta_2$. Does this set contain $0$?**\n"
      ]
    },
    {
      "cell_type": "code",
      "metadata": {
        "colab": {
          "base_uri": "https://localhost:8080/"
        },
        "id": "uqk2Ecmc8TBE",
        "outputId": "0f19ecac-dd32-45f9-bce9-9f23f7eb6ba3"
      },
      "source": [
        "sorted_delta = np.sort(delta_theta)\n",
        "delta_theta\n",
        "sorted_delta\n",
        "\n",
        "left_edge = sorted_delta[250]\n",
        "right_edge = sorted_delta[9750]\n",
        "print(\"95th equitailed credible set: [{} {}]\".format(left_edge,right_edge))\n",
        "\n",
        "# alt method:\n",
        "\n",
        "le2 = np.percentile(delta_theta , 2.5)\n",
        "re2 = np.percentile(delta_theta , 97.5)\n",
        "print(\"alt method: 95th equitailed credible set: [{} {}]\".format(le2,re2))\n"
      ],
      "execution_count": 20,
      "outputs": [
        {
          "output_type": "stream",
          "name": "stdout",
          "text": [
            "95th equitailed credible set: [-5.221111637633612 28.706464605220177]\n",
            "alt method: 95th equitailed credible set: [-5.221284391296641 28.694634575096536]\n"
          ]
        }
      ]
    },
    {
      "cell_type": "markdown",
      "metadata": {
        "id": "FJNL7akH-XG3"
      },
      "source": [
        "Yes as we can see the range of the credible set, the set contains 0."
      ]
    }
  ]
}