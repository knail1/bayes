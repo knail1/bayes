{
  "nbformat": 4,
  "nbformat_minor": 0,
  "metadata": {
    "colab": {
      "name": "Isye6420-hw3-q1.ipynb",
      "provenance": [],
      "collapsed_sections": [],
      "authorship_tag": "ABX9TyO+EKeD7NWaXEZtEE7vUQb/",
      "include_colab_link": true
    },
    "kernelspec": {
      "name": "python3",
      "display_name": "Python 3"
    },
    "language_info": {
      "name": "python"
    }
  },
  "cells": [
    {
      "cell_type": "markdown",
      "metadata": {
        "id": "view-in-github",
        "colab_type": "text"
      },
      "source": [
        "<a href=\"https://colab.research.google.com/github/knail1/bayes/blob/main/Isye6420_hw3_q1.ipynb\" target=\"_parent\"><img src=\"https://colab.research.google.com/assets/colab-badge.svg\" alt=\"Open In Colab\"/></a>"
      ]
    },
    {
      "cell_type": "markdown",
      "metadata": {
        "id": "1x_Kvw4hVg5Z"
      },
      "source": [
        "## HW3 ISYE 6420 Fall 2021\n",
        "### student: Omer Ansari (oansari3)\n",
        "### date - 10/10/21"
      ]
    },
    {
      "cell_type": "markdown",
      "metadata": {
        "id": "oIPpF4z33tD1"
      },
      "source": [
        "## Q1\n",
        "\n",
        "**(a) compare the Bayes estimator for $\\theta$ with the MLE.**\n",
        "\n",
        "*Approach Summary: We first measure the mean of the MLE. Second, we figure out the posterior by multiplying the prior with the likelihood. Third, we observe the emerging distribution of the posterior, and use that distributions mean to figure out the Bayes' estimator (mean). Fourth, we compare this bayes' estimator with the likelihood in terms of percentage difference*\n",
        "\n",
        "- Prior: $\\pi(\\theta) = \\frac{1}{\\sqrt{\\theta}}$ for $0<\\theta<\\infty$ ---- A.1\n",
        "- likelihood: $f(x|\\theta) = Poi(\\theta) = \\frac{\\theta^{x}}{x!}e^{-\\theta}$ -- A.2\n",
        "- observed data X = 1,2,0,1\n",
        "\n",
        "First, we calculate the mean of the likelihood to calculate the frequentist approach:\n",
        "- mean of likelihood (frequentist approach) for $Poi(\\theta):$\n",
        "  - $\\widehat{\\theta}_{MLE} = \\widehat{X} $\n",
        "  - and $\\widehat{X} = \\frac{1+2+0+1}{4} = 1$\n",
        "  - thus $\\widehat{\\theta}_{MLE} = 1$ ---- A.3\n",
        "\n",
        "Next, we calculate posterior using:\n",
        "\n",
        "$\\pi(\\theta|x) = f(x|\\theta) * \\pi(\\theta)$ ---- A.3.1\n",
        "\n",
        "now we calculate likelihood _after_ the observations:\n",
        "\n",
        "We have 4 observed values (1,2,0,4), let's calculate likelihood:\n",
        "\n",
        "- $\\pi(\\theta|1) = \\theta^{1-0.5}e^{-\\theta}$ --- A.4\n",
        "- $\\pi(\\theta|2) = \\frac{1}{2}\\theta^{2-0.5}e^{-\\theta}$ --- A.5\n",
        "- $\\pi(\\theta|0) = \\theta^{0-0.5}e^{-\\theta}$ --- A.6\n",
        "- $\\pi(\\theta|1) = \\theta^{1-0.5}e^{-\\theta}$ --- A.7\n",
        "\n",
        "Plugging A.4, A.5, A.6, A.7:\n",
        "\n",
        "Likelihood = $\\pi(\\theta|1) . \\pi(\\theta|2) . \\pi(\\theta|0) . \\pi\n",
        "(\\theta|1)$\n",
        "\n",
        "$= \\frac{1}{2}\\theta^{4}e^{-4\\theta}$ ---- A.8\n",
        "\n",
        "\n",
        "Plugging A.1, and and A.8 into A.3.1, the **posterior** is:\n",
        "\n",
        "\n",
        "$$\\pi(\\theta|x) = \\frac{1}{2}\\theta^{3.5}e^{-4\\theta}$$ --- A.9\n",
        "\n",
        "The posterior can be observed to be a Gamma distribution.\n",
        "As it were,\n",
        "$\\theta = Ga(\\alpha, \\beta)$, where\n",
        "\n",
        "$Ga \\approx \\theta^{\\alpha-1}e^{-\\beta\\theta}$\n",
        "\n",
        "that equates to:\n",
        "\n",
        "$\\alpha - 1 = 3.5 $ and \n",
        "$\\beta = 4$\n",
        "\n",
        "mean of $\\theta = Ga(\\alpha, \\beta)$ is $\\frac{\\alpha}{\\beta}$\n",
        "\n",
        "thus\n",
        "$\\widehat{\\theta}_{bayes} = 4.5/4 = 1.125$\n",
        "\n",
        "\n",
        "*Answer: The Bayes Estimator is 12.5% higher than the MLE.*\n",
        "\n",
        "\n",
        "--------\n",
        "\n"
      ]
    },
    {
      "cell_type": "markdown",
      "metadata": {
        "id": "mvb-Ae4JwmRz"
      },
      "source": [
        "**(b) Compute numerically a 95% equitailed credible set.**\n",
        "\n",
        "- With the posterior distribution found in (a), you want to find the points L, U such that P(theta < L) = P(theta > U), and those add up to 5%.\n",
        "\n",
        "-----"
      ]
    },
    {
      "cell_type": "code",
      "metadata": {
        "colab": {
          "base_uri": "https://localhost:8080/"
        },
        "id": "BVlYZCla92G9",
        "outputId": "522ed16f-fca3-4f33-e6f3-e85da9b4302d"
      },
      "source": [
        "import pymc3\n",
        "from scipy.stats import gamma\n",
        "a = 3.5\n",
        "gamma_data = gamma.rvs(a, scale, size=1000)\n",
        "L = gamma.ppf(0.05, a, loc=0, scale=1)\n",
        "R = gamma.ppf(0.95, a, loc=0, scale=1)\n",
        "\n",
        "print(\"The credible set for 0.95 equitail is from {} to {}\".format(L,R))"
      ],
      "execution_count": null,
      "outputs": [
        {
          "output_type": "stream",
          "name": "stdout",
          "text": [
            "The credible set for 0.95 equitail is from 1.0836749546490285 to 7.033570224670084\n"
          ]
        }
      ]
    },
    {
      "cell_type": "markdown",
      "metadata": {
        "id": "Qs6-R1Caw2DA"
      },
      "source": [
        "--------\n",
        "**(c) Compute numerically a 95% HPD credible set.**\n",
        "\n",
        "\n"
      ]
    },
    {
      "cell_type": "code",
      "metadata": {
        "id": "V_1k27F7J1ym",
        "colab": {
          "base_uri": "https://localhost:8080/"
        },
        "outputId": "402c170e-b6e6-4371-ab11-da3c2fc2cb9f"
      },
      "source": [
        "import pymc3\n",
        "from scipy.stats import gamma\n",
        "\n",
        "#first generate data from the distribution\n",
        "# recall: alpha = 3.5, and beta = 4\n",
        "a = 3.5\n",
        "scale = 1/4\n",
        "#gamma_data = gamma.rvs(a, scale, size=1000)\n",
        "\n",
        "hpd_limits = []\n",
        "hpd_limits = pymc3.hdi(gamma_data, hdi_prob=.95)\n",
        "\n",
        "print(\"HPD credible set: {}\".format(hpd_limits))"
      ],
      "execution_count": null,
      "outputs": [
        {
          "output_type": "stream",
          "name": "stdout",
          "text": [
            "HPD credible set: [0.51779319 7.27261705]\n"
          ]
        }
      ]
    },
    {
      "cell_type": "markdown",
      "metadata": {
        "id": "QiArAIjYw6gK"
      },
      "source": [
        "------\n",
        "\n",
        "**(d) Numerically find the mode of the posterior, that is, MAP estimator of $\\theta$**\n",
        "\n",
        "For $Ga(\\alpha,\\beta)$, mode = $\\frac{\\alpha-1}{\\beta}$\n",
        "- $\\alpha$ = 3.5\n",
        "- $\\beta$ = 4\n",
        "\n",
        "Mode = 2.5/4 = 0.625\n",
        "\n"
      ]
    },
    {
      "cell_type": "markdown",
      "metadata": {
        "id": "kR4GHs4gxCsI"
      },
      "source": [
        "-----\n",
        "**(e) If you test hypothesis $H_{0}: \\theta \\ge 1$ vs $H_{1}: \\theta < 1 $ based on the posterior, which hypothesis will be favored?**\n",
        "\n",
        "posterior:\n",
        "$$\\pi(\\theta|x) = \\frac{1}{2}\\theta^{3.5}e^{-4\\theta}$$ \n",
        "\n",
        "\n",
        "- we can calculate two CDFs of this posterior for :\n",
        "  - $H_{0}$ : range of $\\theta$ from 1 to $\\infty$ \n",
        "  - $H_{1}$ : range of $\\theta$ from -$\\infty$ to 1\n"
      ]
    },
    {
      "cell_type": "code",
      "metadata": {
        "colab": {
          "base_uri": "https://localhost:8080/"
        },
        "id": "sVkePDIK1N1i",
        "outputId": "e7626abc-429e-4184-980f-78c6af1f7802"
      },
      "source": [
        "gammacdf = gamma.cdf(gamma_data, a, loc=0, scale =1)\n",
        "\n",
        "H0_cdf = 1 - gammacdf[1]\n",
        "#print(gammacdf.shape)\n",
        "print(\"H0_cdf = {}\".format(H0_cdf))\n",
        "\n",
        "#H1_cdf = gammacdf[0] + gammacdf[1]\n",
        "H1_cdf = gammacdf[1]\n",
        "\n",
        "print(\"H1_cdf = {}\".format(H1_cdf))"
      ],
      "execution_count": null,
      "outputs": [
        {
          "output_type": "stream",
          "name": "stdout",
          "text": [
            "H0_cdf = 0.6716818684894892\n",
            "H1_cdf = 0.3283181315105108\n"
          ]
        }
      ]
    },
    {
      "cell_type": "markdown",
      "metadata": {
        "id": "05MmgY1t4AOe"
      },
      "source": [
        "We can see that\n",
        "- $H_{0} : \\theta = 0.6716719$\n",
        "- $H_{1} : \\theta = 0.3283181$\n",
        "\n",
        "therefore $H_{0}$ is superior.\n",
        "\n",
        "\n",
        "\n",
        "\n",
        "\n",
        "--------"
      ]
    },
    {
      "cell_type": "markdown",
      "metadata": {
        "id": "lbB5H7inWAZB"
      },
      "source": [
        "#Q2 \n",
        "\n",
        "**data:**\n",
        "- lady guesses 15/16 correctly\n",
        "  - n = 16 -- A.1\n",
        "  - x = 15 -- A.2\n",
        "- p = probability of lady guessing correctly\n",
        "- probability of $H_{0}$ is p =0.5 (she's just guessing)\n",
        "- probability of $H_{1}$ is p > 0.5 (she has ESP!)\n",
        "- prior $\\pi(p) = \\pi_{0}\\sigma_{0.5} + \\pi_{1}U(0.5,1)$\n",
        "  - $\\pi_{0}$ = 0.95 --- A.3\n",
        "  - $\\pi_{1}$ = 0.05 --- A.4\n",
        "- likelihood $f(x|p) = Bin(15,p) = $ $P(X \\geq 15 | H_{0}$)\n",
        "  - $\\binom{16}{15}0.5^{15}0.5^{1} + \\binom{16}{16}0.5^{16}0.5^{0} = 0.0002594 $\n",
        "\n",
        "--\n",
        "\n",
        "*(a) find the posterior probabilities of hypothesis, p0 and p1, and Bayes Factor:*\n",
        "\n",
        "first some equations:\n",
        "\n",
        "$p_{0} = P(H_{0}|X) = [ 1 + \\frac{\\pi_{1}}{\\pi_{0}}. \\frac{m_{1}(x)}{f(x|0.5)}]^{-1}$ ---- P.1\n",
        "\n",
        "$B_{01} = \\frac{f(x|0.5)}{m_{1}(x)}$. ---- P.2\n",
        "\n",
        "$f(x|p) = \\binom{n}{x}p^{x}(1-p)^{n-x}$ ---- P.3\n",
        "\n",
        "$m_{1}(x) = \\int_{0.5}^{1}f(x|p)2dp$ ----- P.4\n",
        "\n",
        "First, we integrate P.4:\n",
        "- plug in A.1 and A.2 in P.3:\n",
        "\n",
        "$f(x|p) = f(15|p) = \\binom{16}{15}p^{16}(1-p)^{16-15}$\n",
        "$= 16(p^{15}(1-p))$ ---- P.5\n",
        "\n",
        "- plug P.5 , and A.2 into P.4:\n",
        "\n",
        "$m_{1}(15) = \\int_{0.5}^{1}16(p^{15}(1-p)2dp$ ----- P.4\n",
        "\n",
        "$ = 32\\int_{0.5}^{1}(p^{15}(1-p)dp$ \n",
        "\n",
        "$ = 32\\left | \\frac{p^{16}}{16}-\\frac{p^{17}}{17}\\right | $ over 0.5 to 1\n",
        "\n",
        "$ =  32* ( (\\frac{1}{16} - \\frac{1}{17}) - (\\frac{0.5^{16}}{16} - \\frac{0.5^{16}}{17}))$\n",
        "\n",
        "\n",
        "\n",
        "\n",
        "\n",
        "\n",
        "\n"
      ]
    },
    {
      "cell_type": "code",
      "metadata": {
        "id": "tAxS_tfX-OLg",
        "colab": {
          "base_uri": "https://localhost:8080/"
        },
        "outputId": "6938e729-acc2-4bac-dc11-c1ef18438414"
      },
      "source": [
        "term1 = 1/16 - 1/17\n",
        "term2 = (0.5**16)/16 - (0.5**17)/17\n",
        "m1 = 32*(term1-term2)\n",
        "print(\"m1(15) = {} ------ P.5 \".format(m1)) # ---- P.5"
      ],
      "execution_count": null,
      "outputs": [
        {
          "output_type": "stream",
          "name": "stdout",
          "text": [
            "m1(15) = 0.11763090245863973 ------ P.5 \n"
          ]
        }
      ]
    },
    {
      "cell_type": "markdown",
      "metadata": {
        "id": "43nIz4k2sQGC"
      },
      "source": [
        "now, let's evaluate f(x|0.5), using A.2 and P.5:\n",
        "\n",
        "for x = 15:\n",
        "\n",
        "$f(x|0.5) = 16((0.5)^{15}(1-0.5))$"
      ]
    },
    {
      "cell_type": "code",
      "metadata": {
        "colab": {
          "base_uri": "https://localhost:8080/"
        },
        "id": "cAxNlIq4s-yZ",
        "outputId": "76af5ba0-f387-46ea-ceb4-eca4e673142c"
      },
      "source": [
        "fx0_5 = 16*(0.5**15)*(1-0.5)\n",
        "print(\"f(x|0.5) = {} --------P.6 \".format(fx0_5)) # ---- P.6"
      ],
      "execution_count": null,
      "outputs": [
        {
          "output_type": "stream",
          "name": "stdout",
          "text": [
            "f(x|0.5) = 0.000244140625 --------P.6 \n"
          ]
        }
      ]
    },
    {
      "cell_type": "markdown",
      "metadata": {
        "id": "I3pish15t7kc"
      },
      "source": [
        "recall that P.1 is:\n",
        "$p_{0} = P(H_{0}|X) = [ 1 + \\frac{\\pi_{1}}{\\pi_{0}}. \\frac{m_{1}(x)}{f(x|0.5)}]^{-1}$ ---- P.1\n",
        "\n",
        "- plug in A.3, A.4, P.5, and P.6  into P.1:\n",
        "\n",
        "$p_{0} = [1 + \\frac{0.05}{0.95}. \\frac{0.1176309}{0.0002441}]^{-1}$\n",
        "\n",
        "as well as evaluating $p_{1} = 1 - p_{0}$ : "
      ]
    },
    {
      "cell_type": "code",
      "metadata": {
        "colab": {
          "base_uri": "https://localhost:8080/"
        },
        "id": "rC9Kfsuru3eu",
        "outputId": "58d0b5fd-d57f-429d-bb46-c15b235ac6e7"
      },
      "source": [
        "term3 = 0.05/0.95\n",
        "term4 = m1/fx0_5\n",
        "p0 = (1 + term3*term4)**(-1)\n",
        "print(\"p0 = {} ------ P.7\".format(p0))\n",
        "p1 = 1 - p0\n",
        "print(\"p1 = {} ------ P.8\".format(p1))"
      ],
      "execution_count": null,
      "outputs": [
        {
          "output_type": "stream",
          "name": "stdout",
          "text": [
            "p0 = 0.037938071677115284 ------ P.7\n",
            "p1 = 0.9620619283228847 ------ P.8\n"
          ]
        }
      ]
    },
    {
      "cell_type": "markdown",
      "metadata": {
        "id": "-Xa1S7a5xjcZ"
      },
      "source": [
        "therefore, to 7 significant digits (we are using the same number of sig digits illustrated for p-value in Q2 hint)\n",
        "\n",
        "$p_{0} = 0.0379381$. ---- P.7\n",
        "\n",
        "$p_{1} = 0.9620619$ ---- P.8\n",
        "\n",
        "\n",
        "--\n",
        "recall: $B_{01} = \\frac{f(x|0.5)}{m_{1}(x)}$. ---- P.2\n",
        "\n",
        "now, we compute Bayes factor in favor of $H_{0}$ by plugging in P.6 and P.5 into P.2:\n",
        "\n",
        "$B_{01} = \\frac{0.000244140625}{0.11763090245863973}$\n"
      ]
    },
    {
      "cell_type": "code",
      "metadata": {
        "colab": {
          "base_uri": "https://localhost:8080/"
        },
        "id": "QDvwEGKey--B",
        "outputId": "6d5dde12-6310-4e91-8cf3-d3f9232c1c21"
      },
      "source": [
        "B01 = 0.000244140625/0.11763090245863973\n",
        "print(\"B01 = {} ---- P.9\".format(B01))\n",
        "\n",
        "# alternate : B01 = (p0/p1)/(pi0/pi1)\n",
        "# using P.7, P.8, A.3, A.4:\n",
        "num = 0.037938071677115284/0.9620619283228847\n",
        "den = (0.95)/(0.05)\n",
        "B01_alt = num / den\n",
        "#print(B01_alt)\n"
      ],
      "execution_count": null,
      "outputs": [
        {
          "output_type": "stream",
          "name": "stdout",
          "text": [
            "B01 = 0.0020754803363499013 ---- P.9\n",
            "0.0020754803363499013\n"
          ]
        }
      ]
    },
    {
      "cell_type": "markdown",
      "metadata": {
        "id": "uLKXESQm03BT"
      },
      "source": [
        "$B_{01} = 0.0020755$\n",
        "\n",
        "\n",
        "-------\n",
        "\n",
        "**part (b) what is the assessment of H1 according to Jeffrey's scale, is the experiment convincing that the lady possesses ESP**\n",
        "\n",
        "for this we use this equation:\n",
        "\n",
        "$log_{10}B_{10} = -log_{10}(B_{01})$ --- P.10\n",
        "\n",
        "plug P.9 into P.10:\n"
      ]
    },
    {
      "cell_type": "code",
      "metadata": {
        "colab": {
          "base_uri": "https://localhost:8080/"
        },
        "id": "oEyAR0JH2ZXf",
        "outputId": "b423d782-1db2-4635-d73b-3c60e3324bc0"
      },
      "source": [
        "import math\n",
        "lg_b10 = -math.log10(B01)\n",
        "\n",
        "print(\"log(B10) = {}\".format(lg_b10))"
      ],
      "execution_count": null,
      "outputs": [
        {
          "output_type": "stream",
          "name": "stdout",
          "text": [
            "log(B10) = 2.6828813768868525\n"
          ]
        }
      ]
    },
    {
      "cell_type": "markdown",
      "metadata": {
        "id": "iLm4Ppp02-ak"
      },
      "source": [
        "according to Jeffrey's scale:\n",
        "\n",
        "when $log_{10}B_{10}(x) > 2$ the evidence against $H_{0}$ is decisive. This means, the experiment **IS** convincing that the lady possess ESP, even with Bayes treatment."
      ]
    }
  ]
}